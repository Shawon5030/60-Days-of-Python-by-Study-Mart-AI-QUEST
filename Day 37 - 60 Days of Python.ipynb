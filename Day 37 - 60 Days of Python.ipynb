{
 "cells": [
  {
   "cell_type": "markdown",
   "id": "658c184e",
   "metadata": {},
   "source": [
    "# Lambda Anonymous Function"
   ]
  },
  {
   "cell_type": "markdown",
   "id": "4a4d78e2",
   "metadata": {},
   "source": [
    "lambda arguments: expression"
   ]
  },
  {
   "cell_type": "code",
   "execution_count": 1,
   "id": "e3ed2956",
   "metadata": {},
   "outputs": [
    {
     "data": {
      "text/plain": [
       "9"
      ]
     },
     "execution_count": 1,
     "metadata": {},
     "output_type": "execute_result"
    }
   ],
   "source": [
    "def sums(x,y):\n",
    "    return x+y\n",
    "sums(4,5)"
   ]
  },
  {
   "cell_type": "code",
   "execution_count": 2,
   "id": "efe5fa3f",
   "metadata": {},
   "outputs": [
    {
     "data": {
      "text/plain": [
       "9"
      ]
     },
     "execution_count": 2,
     "metadata": {},
     "output_type": "execute_result"
    }
   ],
   "source": [
    "f = lambda x,y: x+y\n",
    "f(4,5)"
   ]
  },
  {
   "cell_type": "code",
   "execution_count": 3,
   "id": "eafeef62",
   "metadata": {},
   "outputs": [
    {
     "data": {
      "text/plain": [
       "20"
      ]
     },
     "execution_count": 3,
     "metadata": {},
     "output_type": "execute_result"
    }
   ],
   "source": [
    "f = lambda x,y: x*y\n",
    "f(4,5)"
   ]
  },
  {
   "cell_type": "code",
   "execution_count": 5,
   "id": "95c69fbf",
   "metadata": {},
   "outputs": [
    {
     "data": {
      "text/plain": [
       "8"
      ]
     },
     "execution_count": 5,
     "metadata": {},
     "output_type": "execute_result"
    }
   ],
   "source": [
    "f = lambda x: x+x\n",
    "f(4)"
   ]
  },
  {
   "cell_type": "markdown",
   "id": "e5947984",
   "metadata": {},
   "source": [
    "# Lambda in higher oreder"
   ]
  },
  {
   "cell_type": "code",
   "execution_count": 6,
   "id": "4a2bcc5c",
   "metadata": {},
   "outputs": [
    {
     "data": {
      "text/plain": [
       "9"
      ]
     },
     "execution_count": 6,
     "metadata": {},
     "output_type": "execute_result"
    }
   ],
   "source": [
    "def operation_higher(x,y, operation):\n",
    "    return operation(x,y)\n",
    "\n",
    "operation_higher(4,5, lambda x,y: x+y)"
   ]
  },
  {
   "cell_type": "code",
   "execution_count": 7,
   "id": "00c5a3a9",
   "metadata": {},
   "outputs": [
    {
     "data": {
      "text/plain": [
       "20"
      ]
     },
     "execution_count": 7,
     "metadata": {},
     "output_type": "execute_result"
    }
   ],
   "source": [
    "def operation_higher(x,y, operation):\n",
    "    return operation(x,y)\n",
    "operation_higher(4,5, lambda x,y: x*y)"
   ]
  },
  {
   "cell_type": "code",
   "execution_count": null,
   "id": "3f1ca91a",
   "metadata": {},
   "outputs": [],
   "source": []
  }
 ],
 "metadata": {
  "kernelspec": {
   "display_name": "Python 3 (ipykernel)",
   "language": "python",
   "name": "python3"
  },
  "language_info": {
   "codemirror_mode": {
    "name": "ipython",
    "version": 3
   },
   "file_extension": ".py",
   "mimetype": "text/x-python",
   "name": "python",
   "nbconvert_exporter": "python",
   "pygments_lexer": "ipython3",
   "version": "3.9.13"
  }
 },
 "nbformat": 4,
 "nbformat_minor": 5
}
